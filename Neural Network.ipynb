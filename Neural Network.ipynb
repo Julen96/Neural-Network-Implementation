{
 "cells": [
  {
   "cell_type": "code",
   "execution_count": 1,
   "metadata": {},
   "outputs": [],
   "source": [
    "import numpy as np\n",
    "import math\n",
    "import matplotlib.pyplot as plt\n",
    "from sklearn.model_selection import train_test_split\n",
    "import pandas as pd"
   ]
  },
  {
   "cell_type": "markdown",
   "metadata": {},
   "source": [
    "## Helper functions\n"
   ]
  },
  {
   "cell_type": "code",
   "execution_count": 2,
   "metadata": {},
   "outputs": [],
   "source": [
    "def sigmoid(z):\n",
    "    a = 1/(1 + np.exp(-z))\n",
    "    return a\n",
    "\n",
    "def softmax(x): # X is a vector containing all the numbers\n",
    "    a = np.exp(x) / np.sum(np.exp(x), axis = 0)\n",
    "    return a\n",
    "\n",
    "def L2loss(y, y_hat, n_samples):\n",
    "        loss = (1/n_samples) * 0.5 * np.sum((y_hat - y)**2)\n",
    "        loss = np.squeeze(loss)\n",
    "        assert(loss.shape == ())\n",
    "        return loss\n",
    "    \n",
    "def CatCrossEntropyLoss(y, y_hat, n_examples):\n",
    "        loss = - (1/n_examples) * np.sum(y * np.log(y_hat))\n",
    "        loss = np.squeeze(loss)\n",
    "        assert(loss.shape == ())\n",
    "        return loss\n",
    "    \n",
    "def evaluate(y_hat, y_real):    \n",
    "    if y_hat.shape[0] == 1:\n",
    "        y_new = y_hat > 0.5\n",
    "        accuracy = np.mean(y_new == y_real)\n",
    "        return accuracy\n",
    "    else:\n",
    "        y_new = np.argmax(y_hat, axis = 0)\n",
    "        y_real = np.argmax(y_real, axis = 0)\n",
    "        accuracy = np.mean(y_new == y_real)\n",
    "        return accuracy\n",
    "    \n",
    "def predict(x, model):\n",
    "    y_hat = model.forward(x, save = False)\n",
    "    return y_hat\n",
    "\n",
    "def one_hot_encoding(y, classes):\n",
    "    y_hot = np.zeros((y.shape[0], classes))\n",
    "    for i in range(0, len(y)):\n",
    "        if y[i] == 0:\n",
    "            y_hot[i, 0] = 1\n",
    "        elif y[i] == 1:\n",
    "            y_hot[i, 1] = 1\n",
    "        elif y[i] == 2:\n",
    "            y_hot[i, 2] = 1\n",
    "    return y_hot\n",
    "        \n",
    "    \n",
    "    "
   ]
  },
  {
   "cell_type": "markdown",
   "metadata": {},
   "source": [
    "# Parameters handling"
   ]
  },
  {
   "cell_type": "code",
   "execution_count": 3,
   "metadata": {},
   "outputs": [],
   "source": [
    "def initialize_parameters(layer1, layer2, classes, input_size):\n",
    "    \n",
    "    np.random.seed(1)\n",
    "    \n",
    "    W1 = np.random.randn(layer1, input_size) * 0.01\n",
    "    b1 = np.zeros((layer1, 1))\n",
    "    W2 = np.random.randn(layer2, layer1) * 0.01\n",
    "    b2 = np.zeros((layer2, 1))\n",
    "    W3 = np.random.randn(classes, layer2) * 0.01\n",
    "    b3 = np.zeros((classes, 1))\n",
    "    ### END CODE HERE ###\n",
    "    \n",
    "    assert(W1.shape == (layer1, input_size))\n",
    "    assert(b1.shape == (layer1, 1))\n",
    "    assert(W2.shape == (layer2, layer1))\n",
    "    assert(b2.shape == (layer2, 1))\n",
    "    assert(W3.shape == (classes, layer2))\n",
    "    assert(b3.shape == (classes, 1))\n",
    "    \n",
    "    parameters = {\"W1\": W1, \"b1\": b1,\n",
    "                  \"W2\": W2, \"b2\": b2,\n",
    "                  \"W3\": W3, \"b3\": b3}\n",
    "    \n",
    "    return parameters"
   ]
  },
  {
   "cell_type": "code",
   "execution_count": 4,
   "metadata": {},
   "outputs": [],
   "source": [
    "def update_parameters(learning_rate, model, decay):\n",
    "    \n",
    "        weights = model.weights # We import the weights \n",
    "        derivatives = model.derivatives\n",
    "        (W1, b1, W2, b2, W3, b3) = (weights[\"W1\"], weights[\"b1\"], \n",
    "                                    weights[\"W2\"], weights[\"b2\"], \n",
    "                                    weights[\"W3\"], weights[\"b3\"])\n",
    "        \n",
    "        (dW1, db1, dW2, db2, dW3, db3) = (derivatives[\"dW1\"], derivatives[\"db1\"], \n",
    "                                          derivatives[\"dW2\"], derivatives[\"db2\"], \n",
    "                                          derivatives[\"dW3\"], derivatives[\"db3\"])\n",
    "\n",
    "        \n",
    "        assert(W1.shape == dW1.shape)\n",
    "        assert(W2.shape == dW2.shape)\n",
    "        assert(W3.shape == dW3.shape)\n",
    "        \n",
    "        W1 = W1 - learning_rate * (dW1 + decay * W1)\n",
    "        b1 = b1 - learning_rate * (db1 + decay * b1)\n",
    "        W2 = W2 - learning_rate * (dW2 + decay * W2)\n",
    "        b2 = b2 - learning_rate * (db2 + decay * b2)\n",
    "        W3 = W3 - learning_rate * (dW3 + decay * W3)\n",
    "        b3 = b3 - learning_rate * (db3 + decay * b3)\n",
    "        \n",
    "        model.weights = {\"W1\": W1, \"b1\": b1,\n",
    "                            \"W2\": W2, \"b2\": b2,\n",
    "                            \"W3\": W3, \"b3\": b3}\n",
    "        \n",
    "    "
   ]
  },
  {
   "cell_type": "markdown",
   "metadata": {},
   "source": [
    "## Classes for node types"
   ]
  },
  {
   "cell_type": "code",
   "execution_count": 5,
   "metadata": {},
   "outputs": [],
   "source": [
    "class obj:\n",
    "\n",
    "        \n",
    "    def makeGraph(self,layer1, layer2, classes, input_size): # Takes as input the number of neurons per layer\n",
    "        self.graph = []\n",
    "        self.weights = initialize_parameters(layer1, layer2, classes, input_size)\n",
    "        \n",
    "        self.graph.append(MultiplyGate())\n",
    "        self.graph.append(SigmoidGate())\n",
    "        self.graph.append(MultiplyGate())\n",
    "        self.graph.append(SigmoidGate())\n",
    "        self.graph.append(MultiplyGate())\n",
    "        self.graph.append(SoftmaxGate())\n",
    "\n",
    "    \n",
    "    def makeGraphBinary(self,layer1, layer2, classes, input_size): # Takes as input the number of neurons per layer\n",
    "        self.graph = []\n",
    "        self.weights = initialize_parameters(layer1, layer2, classes, input_size)\n",
    "        \n",
    "        self.graph.append(MultiplyGate())\n",
    "        self.graph.append(SigmoidGate())\n",
    "        self.graph.append(MultiplyGate())\n",
    "        self.graph.append(SigmoidGate())\n",
    "        self.graph.append(MultiplyGate())\n",
    "        self.graph.append(SigmoidGate())\n",
    "\n",
    "        \n",
    "        "
   ]
  },
  {
   "cell_type": "code",
   "execution_count": 6,
   "metadata": {},
   "outputs": [],
   "source": [
    "class MultiplyGate(obj):\n",
    "    def forward(self, A, W, b, save):\n",
    "        Z = np.dot(W, A) + b\n",
    "        assert(Z.shape == (W.shape[0], A.shape[1]))\n",
    "        if save == True:\n",
    "            self.A = A # Stores x for backward pass\n",
    "            self.W = W # Stores w for backward pass\n",
    "            self.b = b\n",
    "        return Z\n",
    "    def backward(self,dZ, m):\n",
    "        dW = (1/m) * np.dot(dZ , self.A.T)\n",
    "        db = (1/m) * np.sum(dZ, axis = 1, keepdims = True)\n",
    "        dZ = np.dot(self.W.T , dZ)\n",
    "\n",
    "        assert (dZ.shape == self.A.shape)\n",
    "        assert (dW.shape == self.W.shape)\n",
    "        assert (db.shape == self.b.shape)\n",
    "\n",
    "        return[dZ, dW, db]\n",
    "\n",
    "    \n",
    "class SigmoidGate(obj):\n",
    "    def forward(self, x, save):\n",
    "        z = sigmoid(x)\n",
    "        if save == True:\n",
    "            self.x = x\n",
    "        return z\n",
    "    def backward(self, dz):\n",
    "        dx = (sigmoid(self.x)*(1 - sigmoid(self.x))) * dz\n",
    "        return dx\n",
    "    \n",
    "    \n",
    "class SoftmaxGate(obj):\n",
    "    def forward(self, x):\n",
    "        z = softmax(x)\n",
    "        return z\n",
    "    def backward(self, y, y_hat):\n",
    "        dz = y_hat - y\n",
    "        return dz\n",
    "    \n",
    "\n"
   ]
  },
  {
   "cell_type": "code",
   "execution_count": 7,
   "metadata": {},
   "outputs": [],
   "source": [
    "# ----------------------------------------------\n",
    "\n",
    "class ComputeGraph(obj):\n",
    "    \n",
    "    def forward(self, inputs, save):\n",
    "        \n",
    "        weights = self.weights # We import the weights here\n",
    "\n",
    "        (W1, b1, W2, b2, W3, b3) = (weights[\"W1\"], weights[\"b1\"], \n",
    "                                    weights[\"W2\"], weights[\"b2\"], \n",
    "                                    weights[\"W3\"], weights[\"b3\"])\n",
    "\n",
    "        gate = self.graph[0] # Multiply gate input - 1st layer\n",
    "        z = gate.forward(inputs, W1, b1, save)\n",
    "\n",
    "        gate = self.graph[1] # Sigmoid gate\n",
    "        z = gate.forward(z, save)\n",
    "        \n",
    "        gate = self.graph[2] # Multiply gate 1st - 2nd layer\n",
    "        z = gate.forward(z, W2, b2, save)\n",
    "        \n",
    "        gate = self.graph[3] # sigmoid gate\n",
    "        z = gate.forward(z, save)\n",
    "        \n",
    "        gate = self.graph[4] # Multiply gate 2nd - softmax layer\n",
    "        z = gate.forward(z, W3, b3, save)\n",
    "        \n",
    "        gate = self.graph[5] # Softmax gate\n",
    "        y_hat = gate.forward(z)\n",
    "        \n",
    "        return y_hat\n",
    "\n",
    "    \n",
    "    def backward(self, y, y_hat, m):\n",
    "        \n",
    "        self.derivatives = {}\n",
    "\n",
    "        gate = self.graph[5] #Softmax Gate\n",
    "        dz = gate.backward(y, y_hat)\n",
    "\n",
    "        gate = self.graph[4] # Multiply gate 2nd - softmax layer\n",
    "        (dz, dW3, db3) = gate.backward(dz, m)\n",
    "\n",
    "        gate = self.graph[3] # Sigmoid Gate\n",
    "        dz = gate.backward(dz)\n",
    "\n",
    "        gate = self.graph[2] # Multiply gate 2nd - 1st layer\n",
    "        (dz, dW2, db2) = gate.backward(dz, m)\n",
    "\n",
    "        gate = self.graph[1] # Sigmoid gate\n",
    "        dz = gate.backward(dz)\n",
    "\n",
    "        gate = self.graph[0] # Multiply gate input - 1st layer\n",
    "        (dz, dW1, db1) = gate.backward(dz, m)\n",
    "\n",
    "        self.derivatives = {\"dW1\" : dW1, \"db1\" : db1,\n",
    "                            \"dW2\" : dW2, \"db2\" : db2,\n",
    "                            \"dW3\" : dW3, \"db3\" : db3}\n",
    "        \n",
    "        return  self.derivatives"
   ]
  },
  {
   "cell_type": "code",
   "execution_count": 8,
   "metadata": {},
   "outputs": [],
   "source": [
    "def ComputeModel(model, input_vector, output_vector, x_val, y_val, batch_size, epochs, learning_rate, decay):\n",
    "    \n",
    "    np.random.seed(1)\n",
    "    n_samples = input_vector.shape[1]\n",
    "    n_batches = n_samples // batch_size\n",
    "    batches_input = []\n",
    "    batches_output = []\n",
    "    loss = []\n",
    "    loss_val = []\n",
    "    \n",
    "    \n",
    "    \n",
    "    # Create the batches\n",
    "    for i in range(0, n_batches):\n",
    "        batches_input.append(input_vector[:, (i*batch_size):((i+1)*batch_size)])\n",
    "        \n",
    "        if (output_vector.shape[0] == 1):\n",
    "            batches_output.append(output_vector[:, (i*batch_size):((i+1)*batch_size)])\n",
    "        else:\n",
    "            batches_output.append(output_vector[:, (i*batch_size):((i+1)*batch_size)])\n",
    "            \n",
    "    if (n_samples % batch_size != 0):\n",
    "        batches_input.append(input_vector[:, (i+1)*batch_size:])\n",
    "        if (output_vector.shape[0] == 1):\n",
    "            batches_output.append(output_vector[:, (i+1)*batch_size:])\n",
    "        else:\n",
    "            batches_output.append(output_vector[:, (i+1)*batch_size:])\n",
    "        n_batches += 1\n",
    "    \n",
    "    for i in range(0, epochs):\n",
    "        \n",
    "        loss_batch = []\n",
    "        loss_val_batch = []\n",
    "        \n",
    "        for i in range(0, n_batches):\n",
    "            save = True # This parameter is needed to do the validation part\n",
    "            \n",
    "            x = batches_input[i]\n",
    "            y = batches_output[i]\n",
    "            \n",
    "            y_hat = model.forward(x, save)\n",
    "            loss_batch.append(CatCrossEntropyLoss(y, y_hat, x.shape[1]))\n",
    "            \n",
    "\n",
    "            assert(y.shape == y_hat.shape)\n",
    "\n",
    "            \n",
    "            derivatives = model.backward(y, y_hat, x.shape[1])\n",
    "            update_parameters(learning_rate, model, decay)\n",
    "            \n",
    "            save = False # We don't want the new parameters saved for the validation\n",
    "             \n",
    "            y_hat_val = model.forward(x_val, save)\n",
    "            loss_val_batch.append(CatCrossEntropyLoss(y_val, y_hat_val, x_val.shape[1]))\n",
    "\n",
    "        \n",
    "        loss.append(np.sum(loss_batch) / len(loss_batch))   \n",
    "        loss_val.append(np.sum(loss_val_batch) / len(loss_val_batch))\n",
    "        \n",
    "    # plot the cost\n",
    "\n",
    "    plt.plot(np.squeeze(loss), label = 'Training loss')\n",
    "    plt.plot(np.squeeze(loss_val), label = 'Validation loss')\n",
    "    plt.ylabel('loss')\n",
    "    plt.xlabel('iterations')\n",
    "    plt.title(\"Cost per epoch with Learning rate =\" + str(learning_rate))\n",
    "    plt.legend()\n",
    "    plt.show()\n",
    "    \n",
    "    return loss\n",
    "            \n",
    "    \n",
    "    "
   ]
  },
  {
   "cell_type": "markdown",
   "metadata": {},
   "source": [
    "# Import  train and evaluate dataset from UCI"
   ]
  },
  {
   "cell_type": "code",
   "execution_count": 9,
   "metadata": {},
   "outputs": [],
   "source": [
    "def to_cat(y):\n",
    "    for i in range(0,len(y)):\n",
    "        if (y[i] == 'Dendrobatidae'):\n",
    "            y[i] = 0\n",
    "        elif (y[i] == 'Hylidae'):\n",
    "            y[i] = 1\n",
    "        elif (y[i] == 'Leptodactylidae'):\n",
    "            y[i] = 2\n",
    "    return y"
   ]
  },
  {
   "cell_type": "code",
   "execution_count": 10,
   "metadata": {},
   "outputs": [],
   "source": [
    "def load_dataset1():\n",
    "\n",
    "    df_frogs = pd.read_csv('./Frogs_MFCCs.csv')\n",
    "    x = df_frogs.iloc[:, 0:22].to_numpy()\n",
    "    y = df_frogs['Family'].to_numpy()\n",
    "    mask_train = ((y == 'Dendrobatidae') + (y == 'Hylidae') + (y == 'Leptodactylidae'))\n",
    "    y = y[mask_train]\n",
    "    x = x[mask_train]\n",
    "    mean = x.mean(axis = 0)\n",
    "    x -= mean\n",
    "    std = x.std(axis = 0)\n",
    "    x /= std\n",
    "    x_train, x_test, y_train, y_test = train_test_split(x, y, test_size = 0.2)\n",
    "    \n",
    "    y_train = to_cat(y_train)\n",
    "    y_train = one_hot_encoding(y_train, 3)\n",
    "    y_test = to_cat(y_test)\n",
    "    y_test = one_hot_encoding(y_test, 3)\n",
    "    \n",
    "    x_train, x_val, y_train, y_val = train_test_split(x_train, y_train, test_size = 0.2)\n",
    "\n",
    "    return (x_train.T, x_test.T, x_val.T, y_train.T, y_test.T, y_val.T)"
   ]
  },
  {
   "cell_type": "code",
   "execution_count": 11,
   "metadata": {},
   "outputs": [],
   "source": [
    "x_train, x_test, x_val, y_train, y_test, y_val = load_dataset1()"
   ]
  },
  {
   "cell_type": "code",
   "execution_count": 12,
   "metadata": {},
   "outputs": [
    {
     "data": {
      "image/png": "[encoded data removed]",
      "text/plain": [
       "<Figure size 432x288 with 1 Axes>"
      ]
     },
     "metadata": {
      "needs_background": "light"
     },
     "output_type": "display_data"
    }
   ],
   "source": [
    "model = ComputeGraph()\n",
    "model.makeGraph(20, 10, 3, x_train.shape[0])\n",
    "loss = ComputeModel(model, x_train, y_train, x_val, y_val, batch_size = 128, epochs = 150, learning_rate = 0.75, decay = 0.0001)"
   ]
  },
  {
   "cell_type": "code",
   "execution_count": 13,
   "metadata": {},
   "outputs": [
    {
     "data": {
      "text/plain": [
       "0.9908835904628331"
      ]
     },
     "execution_count": 13,
     "metadata": {},
     "output_type": "execute_result"
    }
   ],
   "source": [
    "y_hat = predict(x_test, model)\n",
    "evaluate(y_hat, y_test)"
   ]
  },
  {
   "cell_type": "code",
   "execution_count": 14,
   "metadata": {},
   "outputs": [],
   "source": [
    "import pickle\n",
    "filename = 'Frogs_model.sav'\n",
    "pickle.dump(model, open(filename, 'wb')) # save model"
   ]
  },
  {
   "cell_type": "code",
   "execution_count": 15,
   "metadata": {},
   "outputs": [],
   "source": [
    "model = pickle.load(open(filename, 'rb')) # import model"
   ]
  },
  {
   "cell_type": "markdown",
   "metadata": {},
   "source": [
    "# Import train and evaluate another dataset from UCI"
   ]
  },
  {
   "cell_type": "code",
   "execution_count": 16,
   "metadata": {},
   "outputs": [],
   "source": [
    "def modify(y):\n",
    "    for i in range(0,len(y)):\n",
    "        if y[i] == 5:\n",
    "            y[i] = 0\n",
    "        elif y[i] == 6:\n",
    "            y[i] = 1\n",
    "        elif y[i] == 7:\n",
    "            y[i] = 2\n",
    "    return y"
   ]
  },
  {
   "cell_type": "code",
   "execution_count": 17,
   "metadata": {},
   "outputs": [],
   "source": [
    "def load_dataset2():\n",
    "    df = pd.read_csv('./winequality-white.csv', sep = ';')\n",
    "    x = df.iloc[:, 0:11].to_numpy()\n",
    "    y = df['quality'].to_numpy()\n",
    "    mask = ((y == 5) + (y == 6) + (y == 7))\n",
    "    x = x[mask]\n",
    "    y = y[mask]\n",
    "    mean = x.mean(axis = 0)\n",
    "    x -= mean\n",
    "    std = x.std(axis = 0)\n",
    "    x /= std\n",
    "    x_train, x_test, y_train, y_test = train_test_split(x, y, test_size = 0.2)\n",
    "    y_train = modify(y_train)\n",
    "    y_train = one_hot_encoding(y_train, 3)\n",
    "    y_test = modify(y_test)\n",
    "    y_test = one_hot_encoding(y_test, 3)\n",
    "    \n",
    "    x_train, x_val, y_train, y_val = train_test_split(x_train, y_train, test_size = 0.2)\n",
    "    \n",
    "    return (x_train.T, x_test.T, x_val.T, y_train.T, y_test.T, y_val.T)"
   ]
  },
  {
   "cell_type": "code",
   "execution_count": 18,
   "metadata": {},
   "outputs": [],
   "source": [
    "x_train, x_test, x_val, y_train, y_test, y_val = load_dataset2()"
   ]
  },
  {
   "cell_type": "code",
   "execution_count": 19,
   "metadata": {},
   "outputs": [
    {
     "data": {
      "image/png": "[encoded data removed]",
      "text/plain": [
       "<Figure size 432x288 with 1 Axes>"
      ]
     },
     "metadata": {
      "needs_background": "light"
     },
     "output_type": "display_data"
    }
   ],
   "source": [
    "model = ComputeGraph()\n",
    "model.makeGraph(15, 10, 3, x_train.shape[0])\n",
    "loss = ComputeModel(model, x_train, y_train, x_val, y_val, batch_size = 256, epochs = 400, learning_rate = 0.75, decay = 0.001)"
   ]
  },
  {
   "cell_type": "code",
   "execution_count": 20,
   "metadata": {},
   "outputs": [
    {
     "data": {
      "text/plain": [
       "0.5755237045203969"
      ]
     },
     "execution_count": 20,
     "metadata": {},
     "output_type": "execute_result"
    }
   ],
   "source": [
    "y_hat = predict(x_test, model)\n",
    "evaluate(y_hat, y_test)"
   ]
  },
  {
   "cell_type": "code",
   "execution_count": 21,
   "metadata": {},
   "outputs": [],
   "source": [
    "import pickle\n",
    "filename = 'wine_model.sav'\n",
    "pickle.dump(model, open(filename, 'wb')) # save model"
   ]
  },
  {
   "cell_type": "code",
   "execution_count": 22,
   "metadata": {},
   "outputs": [],
   "source": [
    "model = pickle.load(open(filename, 'rb')) # import model"
   ]
  },
  {
   "cell_type": "code",
   "execution_count": null,
   "metadata": {},
   "outputs": [],
   "source": []
  }
 ],
 "metadata": {
  "kernelspec": {
   "display_name": "Python 3",
   "language": "python",
   "name": "python3"
  },
  "language_info": {
   "codemirror_mode": {
    "name": "ipython",
    "version": 3
   },
   "file_extension": ".py",
   "mimetype": "text/x-python",
   "name": "python",
   "nbconvert_exporter": "python",
   "pygments_lexer": "ipython3",
   "version": "3.7.4"
  }
 },
 "nbformat": 4,
 "nbformat_minor": 2
}
